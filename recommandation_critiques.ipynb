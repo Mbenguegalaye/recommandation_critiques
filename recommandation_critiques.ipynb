{
 "cells": [
  {
   "cell_type": "markdown",
   "id": "a2fe22fd",
   "metadata": {},
   "source": [
    "# Importer les bibliothèques"
   ]
  },
  {
   "cell_type": "code",
   "execution_count": null,
   "id": "3640f90a",
   "metadata": {},
   "outputs": [],
   "source": [
    "import pandas as pd\n",
    "import numpy as np\n",
    "from sklearn.feature_extraction.text import TfidfVectorizer\n",
    "from sklearn.metrics.pairwise import cosine_similarity\n",
    "import re\n",
    "import nltk"
   ]
  },
  {
   "cell_type": "markdown",
   "id": "aa5516f2",
   "metadata": {},
   "source": [
    "# Télécharger les stopwords français"
   ]
  },
  {
   "cell_type": "code",
   "execution_count": null,
   "id": "518c2ad3",
   "metadata": {},
   "outputs": [],
   "source": [
    "nltk.download(\"stopwords\")\n",
    "from nltk.corpus import stopwords\n",
    "french_stopwords = stopwords.words(\"french\")"
   ]
  },
  {
   "cell_type": "markdown",
   "id": "de93c803",
   "metadata": {},
   "source": [
    "# Charger et combiner les données des deux fichiers CSV"
   ]
  },
  {
   "cell_type": "code",
   "execution_count": null,
   "id": "6ab1e391",
   "metadata": {},
   "outputs": [],
   "source": [
    "# Charger les données \n",
    "fightclub_df = pd.read_csv(\"fightclub_critiques.csv\")\n",
    "interstellar_df = pd.read_csv(\"interstellar_critiques.csv\")\n",
    "\n",
    "# Ajouter une colonne pour identifier le film\n",
    "fightclub_df[\"movie_title\"] = \"Fight Club\"\n",
    "interstellar_df[\"movie_title\"] = \"Interstellar\"\n",
    "\n",
    "# Combiner les deux films dans un seul DataFrame\n",
    "df = pd.concat([fightclub_df, interstellar_df], ignore_index=True)\n",
    "df"
   ]
  },
  {
   "cell_type": "markdown",
   "id": "4920e6e2",
   "metadata": {},
   "source": [
    "# prétraitement des données textuelles"
   ]
  },
  {
   "cell_type": "code",
   "execution_count": null,
   "id": "2d08f927",
   "metadata": {},
   "outputs": [],
   "source": [
    "df.isnull().sum()"
   ]
  },
  {
   "cell_type": "raw",
   "id": "291e19f0",
   "metadata": {},
   "source": [
    "Dans le dataset :\n",
    "review_content contient 1 valeur manquante. Comme c’est la variable clé pour le modèle, cette ligne est supprimée.\n",
    "review_title contient 519 valeurs manquantes. Elle est optionnelle et n’est pas utilisée dans le pipeline principal.\n",
    "Les autres colonnes sont complètes et conservées."
   ]
  },
  {
   "cell_type": "code",
   "execution_count": null,
   "id": "7b8362dc",
   "metadata": {},
   "outputs": [],
   "source": [
    "# Supprimer les lignes où review_content est NaN\n",
    "df = df.dropna(subset=[\"review_content\"]).reset_index(drop=True)\n",
    "df"
   ]
  },
  {
   "cell_type": "markdown",
   "id": "60a3cfe4",
   "metadata": {},
   "source": [
    "### Nettoyage du texte"
   ]
  },
  {
   "cell_type": "code",
   "execution_count": null,
   "id": "72085788",
   "metadata": {},
   "outputs": [],
   "source": [
    "def clean_text(text):\n",
    "    text = re.sub(r'<[^>]+>', '', text)  # retire les balises HTML\n",
    "    text = text.lower()\n",
    "    return text\n",
    "\n",
    "# Appliquer la fonction de nettoyage clean_text sur toutes les critiques\n",
    "# et stocker le texte nettoyé dans une nouvelle colonne 'clean_review'\n",
    "\n",
    "df[\"clean_review\"] = df[\"review_content\"].apply(clean_text)\n",
    "df"
   ]
  },
  {
   "cell_type": "markdown",
   "id": "0365751e",
   "metadata": {},
   "source": [
    "### Calculer TF-IDF"
   ]
  },
  {
   "cell_type": "code",
   "execution_count": null,
   "id": "4c1ccf5a",
   "metadata": {},
   "outputs": [],
   "source": [
    "tfidf_vectorizer = TfidfVectorizer(stop_words=french_stopwords)\n",
    "tfidf_matrix = tfidf_vectorizer.fit_transform(df[\"clean_review\"])\n",
    "\n",
    "print(\"TF-IDF calculé pour\", tfidf_matrix.shape[0], \"critiques et\", tfidf_matrix.shape[1], \"mots/features.\")"
   ]
  },
  {
   "cell_type": "markdown",
   "id": "612929d8",
   "metadata": {},
   "source": [
    "# Fonction : récupérer les critiques les plus similaires à une critique donnée\n"
   ]
  },
  {
   "cell_type": "code",
   "execution_count": null,
   "id": "2b8e20ea",
   "metadata": {},
   "outputs": [],
   "source": [
    "def get_similar_reviews(critique_id, top_n=5, use_rating=False, rating_weight=0.5):\n",
    "    \"\"\"\n",
    "    Récupère les top N critiques les plus similaires à une critique donnée,\n",
    "    avec possibilité de prendre en compte le rating et le nombre de likes.\n",
    "\n",
    "    Paramètres :\n",
    "    - critique_id : ID de la critique de référence\n",
    "    - top_n : nombre de critiques à retourner\n",
    "    - use_rating : si True, pondère la similarité selon la note\n",
    "    - rating_weight : poids de la note dans le score combiné (0 à 1)\n",
    "    \"\"\"\n",
    "    # Vérifier que l'ID existe\n",
    "    if critique_id not in df[\"id\"].values:\n",
    "        return f\"Critique {critique_id} introuvable\"\n",
    "    \n",
    "    # Récupérer l'indice de la critique\n",
    "    idx = df.index[df[\"id\"] == critique_id][0]\n",
    "    movie = df.loc[idx, \"movie_title\"]\n",
    "    rating_ref = df.loc[idx, \"rating\"]\n",
    "    \n",
    "    # Filtrer les critiques du même film\n",
    "    movie_indices = df[df[\"movie_title\"] == movie].index\n",
    "    movie_tfidf = tfidf_matrix[movie_indices]\n",
    "    \n",
    "    # Calculer la similarité cosine\n",
    "    sim_scores = cosine_similarity(tfidf_matrix[idx], movie_tfidf).flatten()\n",
    "    \n",
    "    # Exclure la critique elle-même\n",
    "    sim_scores[df.index.get_indexer([idx])] = 0\n",
    "    \n",
    "    # Pondération par rating\n",
    "    if use_rating:\n",
    "        rating_diff = np.abs(df.loc[movie_indices, \"rating\"] - rating_ref)\n",
    "        rating_score = 1 - (rating_diff / df[\"rating\"].max())  # Normaliser entre 0 et 1\n",
    "        sim_scores = (1 - rating_weight) * sim_scores + rating_weight * rating_score\n",
    "    \n",
    "    # Trier indices par score combiné\n",
    "    top_indices = sim_scores.argsort()[::-1][:top_n]\n",
    "    \n",
    "    # Récupérer la critique d’entrée\n",
    "    current_review = df.loc[[idx], [\"id\", \"review_title\", \"review_content\", \"rating\", \"gen_review_like_count\"]].copy()\n",
    "    current_review[\"similarity\"] = 1.0  # Similarité maximale avec elle-même\n",
    "    \n",
    "    # Récupérer les critiques similaires\n",
    "    similar_reviews = df.iloc[movie_indices[top_indices]][\n",
    "        [\"id\", \"review_title\", \"review_content\", \"rating\", \"gen_review_like_count\"]\n",
    "    ].copy()\n",
    "    similar_reviews[\"similarity\"] = sim_scores[top_indices]\n",
    "    \n",
    "    # Trier secondairement par nombre de likes\n",
    "    similar_reviews = similar_reviews.sort_values(by=[\"similarity\", \"gen_review_like_count\"], ascending=[False, False])\n",
    "    \n",
    "    # Concaténer : critique d'entrée + résultats\n",
    "    result = pd.concat([current_review, similar_reviews], ignore_index=True)\n",
    "    \n",
    "    return result.reset_index(drop=True)\n"
   ]
  },
  {
   "cell_type": "markdown",
   "id": "ed0a1eec",
   "metadata": {},
   "source": [
    "### Exemple à tester "
   ]
  },
  {
   "cell_type": "code",
   "execution_count": null,
   "id": "06880987",
   "metadata": {},
   "outputs": [],
   "source": [
    "# Critique de référence : \n",
    "critique_id = df[df[\"movie_title\"] == \"Fight Club\"][\"id\"].iloc[2]\n",
    "\n",
    "# Top 5 critiques similaires en prenant en compte le rating\n",
    "top_similaires = get_similar_reviews(critique_id, top_n=5, use_rating=True, rating_weight=0.3)\n",
    "\n",
    "top_similaires"
   ]
  },
  {
   "cell_type": "code",
   "execution_count": null,
   "id": "3807f981",
   "metadata": {},
   "outputs": [],
   "source": [
    "# Afficher le texte complet dans toutes les colonnes\n",
    "pd.set_option('display.max_colwidth', None)\n",
    "\n",
    "# Maintenant afficher le DataFrame\n",
    "top_similaires\n"
   ]
  },
  {
   "cell_type": "code",
   "execution_count": null,
   "id": "58e82887",
   "metadata": {},
   "outputs": [],
   "source": []
  }
 ],
 "metadata": {
  "kernelspec": {
   "display_name": "Python 3 (ipykernel)",
   "language": "python",
   "name": "python3"
  },
  "language_info": {
   "codemirror_mode": {
    "name": "ipython",
    "version": 3
   },
   "file_extension": ".py",
   "mimetype": "text/x-python",
   "name": "python",
   "nbconvert_exporter": "python",
   "pygments_lexer": "ipython3",
   "version": "3.9.13"
  }
 },
 "nbformat": 4,
 "nbformat_minor": 5
}
